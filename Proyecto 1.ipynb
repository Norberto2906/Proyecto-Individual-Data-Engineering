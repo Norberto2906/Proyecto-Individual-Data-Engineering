{
 "cells": [
  {
   "cell_type": "markdown",
   "metadata": {},
   "source": [
    "Importamos libreria a usar para ver los datos"
   ]
  },
  {
   "cell_type": "code",
   "execution_count": 1,
   "metadata": {},
   "outputs": [],
   "source": [
    "# cargo las librerias que creo poder utilizar para trabajar en el proyecto\n",
    "\n",
    "import pandas as pd\n",
    "import numpy as np"
   ]
  },
  {
   "cell_type": "markdown",
   "metadata": {},
   "source": [
    "CARGAMOS LOS DATOS AL PROGRAMA"
   ]
  },
  {
   "cell_type": "code",
   "execution_count": 2,
   "metadata": {},
   "outputs": [],
   "source": [
    "#cargo los datos a mi plataforma para poder leerlos y ver sus contenidos\n",
    "\n",
    "\n",
    "df_amazon = pd.read_csv('Datasets/amazon_prime_titles.csv')\n",
    "df_disney = pd.read_csv('Datasets/disney_plus_titles.csv')\n",
    "df_hulu = pd.read_csv('Datasets/hulu_titles.csv')\n",
    "df_netflix = pd.read_json('Datasets/netflix_titles.json')"
   ]
  },
  {
   "cell_type": "markdown",
   "metadata": {},
   "source": [
    "DUPLICO LOS DF PARA PODER TRABAJARLOS SIN QUE HAYA MODIFICACIONES EN LOS ORIGINALES"
   ]
  },
  {
   "cell_type": "code",
   "execution_count": 3,
   "metadata": {},
   "outputs": [],
   "source": [
    "# duplico cada archivo del proyecto y asi asegurarme que pueda tener un archivo original\n",
    "# en caso de cometer errores no deseados\n",
    "\n",
    "dfAma = df_amazon\n",
    "dfDis = df_disney\n",
    "dfHul = df_hulu\n",
    "dfNet = df_netflix"
   ]
  },
  {
   "cell_type": "markdown",
   "metadata": {},
   "source": [
    "EXPLORO LOS DATOS"
   ]
  },
  {
   "cell_type": "code",
   "execution_count": 4,
   "metadata": {},
   "outputs": [
    {
     "name": "stdout",
     "output_type": "stream",
     "text": [
      "dfAma tiene (9668, 12) filas y colmunas\n",
      "dfDis tiene (1450, 12) filas y colmunas\n",
      "dfHul tiene (3073, 12) filas y colmunas\n",
      "dfNet tiene (8807, 12) filas y colmunas\n"
     ]
    }
   ],
   "source": [
    "# Exploro cuantoas filas y columnas tienen cada  archivo y luego tomo la deseción de como trabajarlo\n",
    "\n",
    "\n",
    "print('dfAma tiene', dfAma.shape,'filas y colmunas' )\n",
    "print('dfDis tiene', dfDis.shape,'filas y colmunas' )\n",
    "print('dfHul tiene', dfHul.shape,'filas y colmunas' )\n",
    "print('dfNet tiene', dfNet.shape,'filas y colmunas' )"
   ]
  },
  {
   "cell_type": "code",
   "execution_count": 5,
   "metadata": {},
   "outputs": [
    {
     "data": {
      "text/html": [
       "<div>\n",
       "<style scoped>\n",
       "    .dataframe tbody tr th:only-of-type {\n",
       "        vertical-align: middle;\n",
       "    }\n",
       "\n",
       "    .dataframe tbody tr th {\n",
       "        vertical-align: top;\n",
       "    }\n",
       "\n",
       "    .dataframe thead th {\n",
       "        text-align: right;\n",
       "    }\n",
       "</style>\n",
       "<table border=\"1\" class=\"dataframe\">\n",
       "  <thead>\n",
       "    <tr style=\"text-align: right;\">\n",
       "      <th></th>\n",
       "      <th>show_id</th>\n",
       "      <th>type</th>\n",
       "      <th>title</th>\n",
       "      <th>director</th>\n",
       "      <th>cast</th>\n",
       "      <th>country</th>\n",
       "      <th>date_added</th>\n",
       "      <th>release_year</th>\n",
       "      <th>rating</th>\n",
       "      <th>duration</th>\n",
       "      <th>listed_in</th>\n",
       "      <th>description</th>\n",
       "    </tr>\n",
       "  </thead>\n",
       "  <tbody>\n",
       "    <tr>\n",
       "      <th>1896</th>\n",
       "      <td>s1897</td>\n",
       "      <td>TV Show</td>\n",
       "      <td>Le Mans: Racing is Everything</td>\n",
       "      <td>NaN</td>\n",
       "      <td>NaN</td>\n",
       "      <td>NaN</td>\n",
       "      <td>NaN</td>\n",
       "      <td>2017</td>\n",
       "      <td>16+</td>\n",
       "      <td>1 Season</td>\n",
       "      <td>Documentary, Sports</td>\n",
       "      <td>The 24 Hours of Le Mans is a motor race like n...</td>\n",
       "    </tr>\n",
       "    <tr>\n",
       "      <th>8661</th>\n",
       "      <td>s8662</td>\n",
       "      <td>Movie</td>\n",
       "      <td>Rules of Love</td>\n",
       "      <td>Ben Gosling Fuller</td>\n",
       "      <td>Jake Roche, Daisy Head, Paterson Joseph</td>\n",
       "      <td>NaN</td>\n",
       "      <td>NaN</td>\n",
       "      <td>2010</td>\n",
       "      <td>16+</td>\n",
       "      <td>74 min</td>\n",
       "      <td>Arts, Entertainment, and Culture, Romance</td>\n",
       "      <td>He's a kid with no money and big dreams. She's...</td>\n",
       "    </tr>\n",
       "    <tr>\n",
       "      <th>5565</th>\n",
       "      <td>s5566</td>\n",
       "      <td>Movie</td>\n",
       "      <td>Night Hunter</td>\n",
       "      <td>David Raymond</td>\n",
       "      <td>Henry Cavill, Ben Kingsley, Alexandra Daddario...</td>\n",
       "      <td>NaN</td>\n",
       "      <td>NaN</td>\n",
       "      <td>2019</td>\n",
       "      <td>R</td>\n",
       "      <td>99 min</td>\n",
       "      <td>Action, Drama, Suspense</td>\n",
       "      <td>The hunt is on as a detective races against ti...</td>\n",
       "    </tr>\n",
       "    <tr>\n",
       "      <th>639</th>\n",
       "      <td>s640</td>\n",
       "      <td>Movie</td>\n",
       "      <td>The Gospel of Eureka</td>\n",
       "      <td>Michael Palmieri, Donal Mosher</td>\n",
       "      <td>Mx Justin Vivian Bond, Lee Keating, Walter Bur...</td>\n",
       "      <td>NaN</td>\n",
       "      <td>NaN</td>\n",
       "      <td>2019</td>\n",
       "      <td>16+</td>\n",
       "      <td>73 min</td>\n",
       "      <td>Documentary</td>\n",
       "      <td>Welcome to Eureka Springs, Arkansas, a one-of-...</td>\n",
       "    </tr>\n",
       "    <tr>\n",
       "      <th>694</th>\n",
       "      <td>s695</td>\n",
       "      <td>Movie</td>\n",
       "      <td>The Days of Noah: Judgment Hour - Part 2 of 4</td>\n",
       "      <td>Michael McCaffrey</td>\n",
       "      <td>Jeff Reich, Doug Batchelor, Stephen Bohr, Art ...</td>\n",
       "      <td>NaN</td>\n",
       "      <td>NaN</td>\n",
       "      <td>2019</td>\n",
       "      <td>ALL</td>\n",
       "      <td>90 min</td>\n",
       "      <td>Documentary, Faith and Spirituality, Special I...</td>\n",
       "      <td>The physical evidence left behind warns us of ...</td>\n",
       "    </tr>\n",
       "  </tbody>\n",
       "</table>\n",
       "</div>"
      ],
      "text/plain": [
       "     show_id     type                                          title  \\\n",
       "1896   s1897  TV Show                  Le Mans: Racing is Everything   \n",
       "8661   s8662    Movie                                  Rules of Love   \n",
       "5565   s5566    Movie                                   Night Hunter   \n",
       "639     s640    Movie                           The Gospel of Eureka   \n",
       "694     s695    Movie  The Days of Noah: Judgment Hour - Part 2 of 4   \n",
       "\n",
       "                            director  \\\n",
       "1896                             NaN   \n",
       "8661              Ben Gosling Fuller   \n",
       "5565                   David Raymond   \n",
       "639   Michael Palmieri, Donal Mosher   \n",
       "694                Michael McCaffrey   \n",
       "\n",
       "                                                   cast country date_added  \\\n",
       "1896                                                NaN     NaN        NaN   \n",
       "8661            Jake Roche, Daisy Head, Paterson Joseph     NaN        NaN   \n",
       "5565  Henry Cavill, Ben Kingsley, Alexandra Daddario...     NaN        NaN   \n",
       "639   Mx Justin Vivian Bond, Lee Keating, Walter Bur...     NaN        NaN   \n",
       "694   Jeff Reich, Doug Batchelor, Stephen Bohr, Art ...     NaN        NaN   \n",
       "\n",
       "      release_year rating  duration  \\\n",
       "1896          2017    16+  1 Season   \n",
       "8661          2010    16+    74 min   \n",
       "5565          2019      R    99 min   \n",
       "639           2019    16+    73 min   \n",
       "694           2019    ALL    90 min   \n",
       "\n",
       "                                              listed_in  \\\n",
       "1896                                Documentary, Sports   \n",
       "8661          Arts, Entertainment, and Culture, Romance   \n",
       "5565                            Action, Drama, Suspense   \n",
       "639                                         Documentary   \n",
       "694   Documentary, Faith and Spirituality, Special I...   \n",
       "\n",
       "                                            description  \n",
       "1896  The 24 Hours of Le Mans is a motor race like n...  \n",
       "8661  He's a kid with no money and big dreams. She's...  \n",
       "5565  The hunt is on as a detective races against ti...  \n",
       "639   Welcome to Eureka Springs, Arkansas, a one-of-...  \n",
       "694   The physical evidence left behind warns us of ...  "
      ]
     },
     "execution_count": 5,
     "metadata": {},
     "output_type": "execute_result"
    }
   ],
   "source": [
    "# Analizo el dataframe según su contenido interno\n",
    "\n",
    "dfAma.sample(5)"
   ]
  },
  {
   "cell_type": "code",
   "execution_count": 6,
   "metadata": {},
   "outputs": [
    {
     "name": "stdout",
     "output_type": "stream",
     "text": [
      "<class 'pandas.core.frame.DataFrame'>\n",
      "RangeIndex: 9668 entries, 0 to 9667\n",
      "Data columns (total 12 columns):\n",
      " #   Column        Non-Null Count  Dtype \n",
      "---  ------        --------------  ----- \n",
      " 0   show_id       9668 non-null   object\n",
      " 1   type          9668 non-null   object\n",
      " 2   title         9668 non-null   object\n",
      " 3   director      7586 non-null   object\n",
      " 4   cast          8435 non-null   object\n",
      " 5   country       672 non-null    object\n",
      " 6   date_added    155 non-null    object\n",
      " 7   release_year  9668 non-null   int64 \n",
      " 8   rating        9331 non-null   object\n",
      " 9   duration      9668 non-null   object\n",
      " 10  listed_in     9668 non-null   object\n",
      " 11  description   9668 non-null   object\n",
      "dtypes: int64(1), object(11)\n",
      "memory usage: 906.5+ KB\n"
     ]
    }
   ],
   "source": [
    "# miro la información del df para saber si hay datos faltantes y que clase de datos tiene\n",
    "\n",
    "dfAma.info()"
   ]
  },
  {
   "cell_type": "code",
   "execution_count": 7,
   "metadata": {},
   "outputs": [],
   "source": [
    "# creo valores para poder sustituir a los faltantes\n",
    "\n",
    "\n",
    "valores_amazon = {\"director\":\"Desconocido\",\"cast\":\"Desconocido\",\"country\" :\"ninguno\",\"date_added\":\"0\",\"rating\":\"0\"} #\"cast\":\"Ausente\"\n"
   ]
  },
  {
   "cell_type": "code",
   "execution_count": 8,
   "metadata": {},
   "outputs": [],
   "source": [
    "# sustituyo los valores faltantes a todas columnas\n",
    "\n",
    "dfAma.fillna(value=valores_amazon, inplace=True)"
   ]
  },
  {
   "cell_type": "code",
   "execution_count": 9,
   "metadata": {},
   "outputs": [
    {
     "data": {
      "text/plain": [
       "show_id         0\n",
       "type            0\n",
       "title           0\n",
       "director        0\n",
       "cast            0\n",
       "country         0\n",
       "date_added      0\n",
       "release_year    0\n",
       "rating          0\n",
       "duration        0\n",
       "listed_in       0\n",
       "description     0\n",
       "dtype: int64"
      ]
     },
     "execution_count": 9,
     "metadata": {},
     "output_type": "execute_result"
    }
   ],
   "source": [
    "# controlo de que no hay quedado ningun dato nulo\n",
    "dfAma.isnull().sum()"
   ]
  },
  {
   "cell_type": "markdown",
   "metadata": {},
   "source": [
    "TRANSFORMO LOS DATOS DE DISNEY"
   ]
  },
  {
   "cell_type": "code",
   "execution_count": 10,
   "metadata": {},
   "outputs": [
    {
     "name": "stdout",
     "output_type": "stream",
     "text": [
      "<class 'pandas.core.frame.DataFrame'>\n",
      "RangeIndex: 1450 entries, 0 to 1449\n",
      "Data columns (total 12 columns):\n",
      " #   Column        Non-Null Count  Dtype \n",
      "---  ------        --------------  ----- \n",
      " 0   show_id       1450 non-null   object\n",
      " 1   type          1450 non-null   object\n",
      " 2   title         1450 non-null   object\n",
      " 3   director      977 non-null    object\n",
      " 4   cast          1260 non-null   object\n",
      " 5   country       1231 non-null   object\n",
      " 6   date_added    1447 non-null   object\n",
      " 7   release_year  1450 non-null   int64 \n",
      " 8   rating        1447 non-null   object\n",
      " 9   duration      1450 non-null   object\n",
      " 10  listed_in     1450 non-null   object\n",
      " 11  description   1450 non-null   object\n",
      "dtypes: int64(1), object(11)\n",
      "memory usage: 136.1+ KB\n"
     ]
    }
   ],
   "source": [
    "# miro la información del df para saber si hay datos faltantes y que clase de datos tiene\n",
    "dfDis.info(5)"
   ]
  },
  {
   "cell_type": "code",
   "execution_count": 11,
   "metadata": {},
   "outputs": [
    {
     "data": {
      "text/html": [
       "<div>\n",
       "<style scoped>\n",
       "    .dataframe tbody tr th:only-of-type {\n",
       "        vertical-align: middle;\n",
       "    }\n",
       "\n",
       "    .dataframe tbody tr th {\n",
       "        vertical-align: top;\n",
       "    }\n",
       "\n",
       "    .dataframe thead th {\n",
       "        text-align: right;\n",
       "    }\n",
       "</style>\n",
       "<table border=\"1\" class=\"dataframe\">\n",
       "  <thead>\n",
       "    <tr style=\"text-align: right;\">\n",
       "      <th></th>\n",
       "      <th>show_id</th>\n",
       "      <th>type</th>\n",
       "      <th>title</th>\n",
       "      <th>director</th>\n",
       "      <th>cast</th>\n",
       "      <th>country</th>\n",
       "      <th>date_added</th>\n",
       "      <th>release_year</th>\n",
       "      <th>rating</th>\n",
       "      <th>duration</th>\n",
       "      <th>listed_in</th>\n",
       "      <th>description</th>\n",
       "    </tr>\n",
       "  </thead>\n",
       "  <tbody>\n",
       "    <tr>\n",
       "      <th>0</th>\n",
       "      <td>s1</td>\n",
       "      <td>Movie</td>\n",
       "      <td>Duck the Halls: A Mickey Mouse Christmas Special</td>\n",
       "      <td>Alonso Ramirez Ramos, Dave Wasson</td>\n",
       "      <td>Chris Diamantopoulos, Tony Anselmo, Tress MacN...</td>\n",
       "      <td>NaN</td>\n",
       "      <td>November 26, 2021</td>\n",
       "      <td>2016</td>\n",
       "      <td>TV-G</td>\n",
       "      <td>23 min</td>\n",
       "      <td>Animation, Family</td>\n",
       "      <td>Join Mickey and the gang as they duck the halls!</td>\n",
       "    </tr>\n",
       "    <tr>\n",
       "      <th>1</th>\n",
       "      <td>s2</td>\n",
       "      <td>Movie</td>\n",
       "      <td>Ernest Saves Christmas</td>\n",
       "      <td>John Cherry</td>\n",
       "      <td>Jim Varney, Noelle Parker, Douglas Seale</td>\n",
       "      <td>NaN</td>\n",
       "      <td>November 26, 2021</td>\n",
       "      <td>1988</td>\n",
       "      <td>PG</td>\n",
       "      <td>91 min</td>\n",
       "      <td>Comedy</td>\n",
       "      <td>Santa Claus passes his magic bag to a new St. ...</td>\n",
       "    </tr>\n",
       "    <tr>\n",
       "      <th>2</th>\n",
       "      <td>s3</td>\n",
       "      <td>Movie</td>\n",
       "      <td>Ice Age: A Mammoth Christmas</td>\n",
       "      <td>Karen Disher</td>\n",
       "      <td>Raymond Albert Romano, John Leguizamo, Denis L...</td>\n",
       "      <td>United States</td>\n",
       "      <td>November 26, 2021</td>\n",
       "      <td>2011</td>\n",
       "      <td>TV-G</td>\n",
       "      <td>23 min</td>\n",
       "      <td>Animation, Comedy, Family</td>\n",
       "      <td>Sid the Sloth is on Santa's naughty list.</td>\n",
       "    </tr>\n",
       "    <tr>\n",
       "      <th>3</th>\n",
       "      <td>s4</td>\n",
       "      <td>Movie</td>\n",
       "      <td>The Queen Family Singalong</td>\n",
       "      <td>Hamish Hamilton</td>\n",
       "      <td>Darren Criss, Adam Lambert, Derek Hough, Alexa...</td>\n",
       "      <td>NaN</td>\n",
       "      <td>November 26, 2021</td>\n",
       "      <td>2021</td>\n",
       "      <td>TV-PG</td>\n",
       "      <td>41 min</td>\n",
       "      <td>Musical</td>\n",
       "      <td>This is real life, not just fantasy!</td>\n",
       "    </tr>\n",
       "    <tr>\n",
       "      <th>4</th>\n",
       "      <td>s5</td>\n",
       "      <td>TV Show</td>\n",
       "      <td>The Beatles: Get Back</td>\n",
       "      <td>NaN</td>\n",
       "      <td>John Lennon, Paul McCartney, George Harrison, ...</td>\n",
       "      <td>NaN</td>\n",
       "      <td>November 25, 2021</td>\n",
       "      <td>2021</td>\n",
       "      <td>NaN</td>\n",
       "      <td>1 Season</td>\n",
       "      <td>Docuseries, Historical, Music</td>\n",
       "      <td>A three-part documentary from Peter Jackson ca...</td>\n",
       "    </tr>\n",
       "  </tbody>\n",
       "</table>\n",
       "</div>"
      ],
      "text/plain": [
       "  show_id     type                                             title  \\\n",
       "0      s1    Movie  Duck the Halls: A Mickey Mouse Christmas Special   \n",
       "1      s2    Movie                            Ernest Saves Christmas   \n",
       "2      s3    Movie                      Ice Age: A Mammoth Christmas   \n",
       "3      s4    Movie                        The Queen Family Singalong   \n",
       "4      s5  TV Show                             The Beatles: Get Back   \n",
       "\n",
       "                            director  \\\n",
       "0  Alonso Ramirez Ramos, Dave Wasson   \n",
       "1                        John Cherry   \n",
       "2                       Karen Disher   \n",
       "3                    Hamish Hamilton   \n",
       "4                                NaN   \n",
       "\n",
       "                                                cast        country  \\\n",
       "0  Chris Diamantopoulos, Tony Anselmo, Tress MacN...            NaN   \n",
       "1           Jim Varney, Noelle Parker, Douglas Seale            NaN   \n",
       "2  Raymond Albert Romano, John Leguizamo, Denis L...  United States   \n",
       "3  Darren Criss, Adam Lambert, Derek Hough, Alexa...            NaN   \n",
       "4  John Lennon, Paul McCartney, George Harrison, ...            NaN   \n",
       "\n",
       "          date_added  release_year rating  duration  \\\n",
       "0  November 26, 2021          2016   TV-G    23 min   \n",
       "1  November 26, 2021          1988     PG    91 min   \n",
       "2  November 26, 2021          2011   TV-G    23 min   \n",
       "3  November 26, 2021          2021  TV-PG    41 min   \n",
       "4  November 25, 2021          2021    NaN  1 Season   \n",
       "\n",
       "                       listed_in  \\\n",
       "0              Animation, Family   \n",
       "1                         Comedy   \n",
       "2      Animation, Comedy, Family   \n",
       "3                        Musical   \n",
       "4  Docuseries, Historical, Music   \n",
       "\n",
       "                                         description  \n",
       "0   Join Mickey and the gang as they duck the halls!  \n",
       "1  Santa Claus passes his magic bag to a new St. ...  \n",
       "2          Sid the Sloth is on Santa's naughty list.  \n",
       "3               This is real life, not just fantasy!  \n",
       "4  A three-part documentary from Peter Jackson ca...  "
      ]
     },
     "execution_count": 11,
     "metadata": {},
     "output_type": "execute_result"
    }
   ],
   "source": [
    "# Analizo el dataframe según su contenido interno\n",
    "\n",
    "dfDis.head()"
   ]
  },
  {
   "cell_type": "code",
   "execution_count": 12,
   "metadata": {},
   "outputs": [],
   "source": [
    "# creo valores para poder sustituir a los faltantes\n",
    "valores_disney = {\"director\":\"Desconocido\",\"cast\":\"Desconocido\",\"country\" :\"ninguno\",\"date_added\":\"0\",\"rating\":\"0\"} #\"cast\":\"Ausente\","
   ]
  },
  {
   "cell_type": "code",
   "execution_count": 13,
   "metadata": {},
   "outputs": [
    {
     "data": {
      "text/plain": [
       "show_id         0\n",
       "type            0\n",
       "title           0\n",
       "director        0\n",
       "cast            0\n",
       "country         0\n",
       "date_added      0\n",
       "release_year    0\n",
       "rating          0\n",
       "duration        0\n",
       "listed_in       0\n",
       "description     0\n",
       "dtype: int64"
      ]
     },
     "execution_count": 13,
     "metadata": {},
     "output_type": "execute_result"
    }
   ],
   "source": [
    "# sustituyo los valores faltantes a todas columnas\n",
    "# sustituyo los valores faltantes a todas columnas\n",
    "\n",
    "\n",
    "dfDis.fillna(value=valores_disney, inplace=True)\n",
    "dfDis.isnull().sum()"
   ]
  },
  {
   "cell_type": "markdown",
   "metadata": {},
   "source": [
    "TRANSFORMO LOS DATOS DE HULL"
   ]
  },
  {
   "cell_type": "code",
   "execution_count": 14,
   "metadata": {},
   "outputs": [
    {
     "name": "stdout",
     "output_type": "stream",
     "text": [
      "<class 'pandas.core.frame.DataFrame'>\n",
      "RangeIndex: 3073 entries, 0 to 3072\n",
      "Data columns (total 12 columns):\n",
      " #   Column        Non-Null Count  Dtype  \n",
      "---  ------        --------------  -----  \n",
      " 0   show_id       3073 non-null   object \n",
      " 1   type          3073 non-null   object \n",
      " 2   title         3073 non-null   object \n",
      " 3   director      3 non-null      object \n",
      " 4   cast          0 non-null      float64\n",
      " 5   country       1620 non-null   object \n",
      " 6   date_added    3045 non-null   object \n",
      " 7   release_year  3073 non-null   int64  \n",
      " 8   rating        2553 non-null   object \n",
      " 9   duration      2594 non-null   object \n",
      " 10  listed_in     3073 non-null   object \n",
      " 11  description   3069 non-null   object \n",
      "dtypes: float64(1), int64(1), object(10)\n",
      "memory usage: 288.2+ KB\n"
     ]
    }
   ],
   "source": [
    "# miro la información del df para saber si hay datos faltantes y que clase de datos tiene\n",
    "\n",
    "dfHul.info(5)"
   ]
  },
  {
   "cell_type": "code",
   "execution_count": 15,
   "metadata": {},
   "outputs": [],
   "source": [
    "# creo valores para poder sustituir a los faltantes\n",
    "\n",
    "valores_hull = {\"director\":\"Desconocido\",\"country\" :\"ninguno\",\"cast\":\"Desconocido\",\"date_added\":\"0\",\"rating\":\"0\",\"duration\":\"desconocido\",\"description\":\"ninguno\"} #\"cast\":\"Ausente\","
   ]
  },
  {
   "cell_type": "code",
   "execution_count": 16,
   "metadata": {},
   "outputs": [
    {
     "data": {
      "text/plain": [
       "show_id         0\n",
       "type            0\n",
       "title           0\n",
       "director        0\n",
       "cast            0\n",
       "country         0\n",
       "date_added      0\n",
       "release_year    0\n",
       "rating          0\n",
       "duration        0\n",
       "listed_in       0\n",
       "description     0\n",
       "dtype: int64"
      ]
     },
     "execution_count": 16,
     "metadata": {},
     "output_type": "execute_result"
    }
   ],
   "source": [
    "# sustituyo los valores faltantes a todas columnas\n",
    "# sustituyo los valores faltantes a todas columnas\n",
    "\n",
    "dfHul.fillna(value=valores_hull, inplace=True)\n",
    "dfHul.isnull().sum()"
   ]
  },
  {
   "cell_type": "markdown",
   "metadata": {},
   "source": [
    "TRANSFORMO LOS DATOS DE NETFLIX"
   ]
  },
  {
   "cell_type": "code",
   "execution_count": 17,
   "metadata": {},
   "outputs": [
    {
     "name": "stdout",
     "output_type": "stream",
     "text": [
      "<class 'pandas.core.frame.DataFrame'>\n",
      "Int64Index: 8807 entries, 0 to 8806\n",
      "Data columns (total 12 columns):\n",
      " #   Column        Non-Null Count  Dtype \n",
      "---  ------        --------------  ----- \n",
      " 0   show_id       8807 non-null   object\n",
      " 1   type          8807 non-null   object\n",
      " 2   title         8807 non-null   object\n",
      " 3   director      6173 non-null   object\n",
      " 4   cast          7982 non-null   object\n",
      " 5   country       7976 non-null   object\n",
      " 6   date_added    8797 non-null   object\n",
      " 7   release_year  8807 non-null   int64 \n",
      " 8   rating        8803 non-null   object\n",
      " 9   duration      8804 non-null   object\n",
      " 10  listed_in     8807 non-null   object\n",
      " 11  description   8807 non-null   object\n",
      "dtypes: int64(1), object(11)\n",
      "memory usage: 894.5+ KB\n"
     ]
    }
   ],
   "source": [
    "# miro la información del df para saber si hay datos faltantes y que clase de datos tiene\n",
    "\n",
    "df_netflix.info() "
   ]
  },
  {
   "cell_type": "code",
   "execution_count": 18,
   "metadata": {},
   "outputs": [],
   "source": [
    "# creo valores para poder sustituir a los faltantes\n",
    "\n",
    "valores_netflix = {\"director\":\"Desconocido\",\"country\" :\"ninguno\",\"cast\":\"Desconocido\",\"date_added\":\"0\",\"rating\":\"0\",\"duration\":\"desconocido\"} #\"cast\":\"Ausente\","
   ]
  },
  {
   "cell_type": "code",
   "execution_count": 19,
   "metadata": {},
   "outputs": [
    {
     "data": {
      "text/plain": [
       "show_id         0\n",
       "type            0\n",
       "title           0\n",
       "director        0\n",
       "cast            0\n",
       "country         0\n",
       "date_added      0\n",
       "release_year    0\n",
       "rating          0\n",
       "duration        0\n",
       "listed_in       0\n",
       "description     0\n",
       "dtype: int64"
      ]
     },
     "execution_count": 19,
     "metadata": {},
     "output_type": "execute_result"
    }
   ],
   "source": [
    "# sustituyo los valores faltantes a todas columnas\n",
    "# sustituyo los valores faltantes a todas columnas\n",
    "\n",
    "dfNet.fillna(value=valores_netflix, inplace=True)\n",
    "dfNet.isnull().sum()"
   ]
  },
  {
   "attachments": {},
   "cell_type": "markdown",
   "metadata": {},
   "source": [
    "EMPIEZO A TRABAJAR LOS DATOS DE MANERA CONJUNTA"
   ]
  },
  {
   "cell_type": "code",
   "execution_count": 20,
   "metadata": {},
   "outputs": [],
   "source": [
    "# creo una colmuna llamada \"plataforma\" para todos los archivos\n",
    "\n",
    "\n",
    "dfNet['plataforma'] = ('Netflix')\n",
    "dfAma['plataforma'] = ('Amazon')\n",
    "dfHul['plataforma'] = ('Hulu')\n",
    "dfDis['plataforma'] = ('Disney')"
   ]
  },
  {
   "cell_type": "code",
   "execution_count": 21,
   "metadata": {},
   "outputs": [],
   "source": [
    "# uno todos los archivos por sus columnas \n",
    "\n",
    "df = pd.concat([dfAma, dfNet, dfHul, dfDis], axis=0)"
   ]
  },
  {
   "cell_type": "code",
   "execution_count": 22,
   "metadata": {},
   "outputs": [],
   "source": [
    "# reemplazo valores en la columna \"duration\" para poder trabajarla a futuro\n",
    "\n",
    "list_replace=[\" min\",\" Seasons\",\"Season\",\"desconocido\"]\n",
    "list_value=[\"\",\"\",\"\",\"0\"]\n",
    "df[[\"duration\"]]=df[[\"duration\"]].replace(list_replace,list_value,regex=True)"
   ]
  },
  {
   "cell_type": "code",
   "execution_count": 23,
   "metadata": {},
   "outputs": [],
   "source": [
    "df[[\"duration\"]]=df[[\"duration\"]].astype(int)"
   ]
  },
  {
   "cell_type": "code",
   "execution_count": 24,
   "metadata": {},
   "outputs": [],
   "source": [
    "df.duration.replace(\" min\",\"\",inplace=True,regex=True)\n",
    "df.duration.replace(\" Season\",\"\",inplace=True,regex=True)\n",
    "df.duration.replace(\"s\",\"\",inplace=True,regex=True)\n",
    "\n",
    "df.listed_in.replace(\" \",\"\",inplace=True,regex=True)\n",
    "\n",
    "df.cast.replace(\" \",\"\",inplace=True,regex=True)"
   ]
  },
  {
   "cell_type": "code",
   "execution_count": 25,
   "metadata": {},
   "outputs": [],
   "source": [
    "# creo una funcion que me permite, mediante la eleccion de un año, una plataforma y su tipo de film(\"min o seasons\")\n",
    "# saber que film es la de mayor duracion\n",
    "\n",
    "def get_max_duration(año:int, plataforma:str, duration_type:str):\n",
    "   if duration_type not in [\"min\",\"season\"]:\n",
    "        raise ValueError(\"duration_type should be 'min' or 'season'\")\n",
    "   elif plataforma not in [\"Netflix\",\"Amazon\",\"Disney\",\"Hulu\"]:\n",
    "        raise ValueError(\"plataforma should be a platform name\")\n",
    "   else:\n",
    "    if plataforma==\"Amazon\":\n",
    "        if duration_type==\"min\":\n",
    "            max_duration_id=df[(df[\"release_year\"]==año) & (df[\"type\"]==\"Movie\")].duration.idxmax()\n",
    "            return df[(df[\"plataforma\"]==\"Amazon\")].loc[max_duration_id, 'title']\n",
    "        if duration_type==\"season\":\n",
    "            max_duration_id=df[(df[\"release_year\"]==año) & (df[\"type\"]==\"TV Show\")].duration.idxmax()\n",
    "            return df[(df[\"plataforma\"]==\"Amazon\")].loc[max_duration_id, 'title']\n",
    "    if plataforma==\"Netflix\":\n",
    "        if duration_type==\"min\":\n",
    "            max_duration_id=df[(df[\"release_year\"]==año) & (df[\"type\"]==\"Movie\")].duration.idxmax()\n",
    "            return df[(df[\"plataforma\"]==\"Netflix\")].loc[max_duration_id, 'title']\n",
    "        if duration_type==\"season\":\n",
    "            max_duration_id=df[(df[\"release_year\"]==año) & (df[\"type\"]==\"TV Show\")].duration.idxmax()\n",
    "            return df[(df[\"plataforma\"]==\"Netflix\")].loc[max_duration_id, 'title']\n",
    "    if plataforma==\"Hulu\":\n",
    "        if duration_type==\"min\":\n",
    "            max_duration_id=df[(df[\"release_year\"]==año) & (df[\"type\"]==\"Movie\")].duration.idxmax()\n",
    "            return df[(df[\"plataforma\"]==\"Hulu\")].loc[max_duration_id, 'title']\n",
    "        if duration_type==\"season\":\n",
    "            max_duration_id=df[(df[\"release_year\"]==año) & (df[\"type\"]==\"TV Show\")].duration.idxmax()\n",
    "            return df[(df[\"plataforma\"]==\"Hulu\")].loc[max_duration_id, 'title']\n",
    "    if plataforma==\"Disney\":\n",
    "        if duration_type==\"min\":\n",
    "            max_duration_id=df[(df[\"release_year\"]==año) & (df[\"type\"]==\"Movie\")].duration.idxmax()\n",
    "            return df[(df[\"plataforma\"]==\"Disney\")].loc[max_duration_id, 'title']\n",
    "        if duration_type==\"season\":\n",
    "            max_duration_id=df[(df[\"release_year\"]==año) & (df[\"type\"]==\"TV Show\")].duration.idxmax()\n",
    "            return df[(df[\"plataforma\"]==\"Disney\")].loc[max_duration_id, 'title']\n"
   ]
  },
  {
   "cell_type": "code",
   "execution_count": 36,
   "metadata": {},
   "outputs": [
    {
     "name": "stdout",
     "output_type": "stream",
     "text": [
      "NOVA: Secrets of the Shining Knight\n"
     ]
    }
   ],
   "source": [
    "print(get_max_duration(2020,\"Netflix\",\"min\"))"
   ]
  },
  {
   "cell_type": "code",
   "execution_count": 27,
   "metadata": {},
   "outputs": [],
   "source": [
    "#creo una funcion para saber la cantidad disponible de series y peliculas de una plataforma especificada\n",
    "\n",
    "def get_count_plataform(plataforma):\n",
    "    if plataforma not in [\"Netflix\",\"Amazon\",\"Disney\",\"Hulu\"]:\n",
    "            raise ValueError(\"plataforma should be a platform name\")\n",
    "    else:\n",
    "        if plataforma not in [\"Netflix\",\"Amazon\",\"Disney\",\"Hulu\"]:\n",
    "                raise ValueError(\"df. should be a platform name\")\n",
    "        else:\n",
    "            if plataforma==\"Amazon\":\n",
    "                movies=df[(df[\"type\"]==\"Movie\")&(df[\"plataforma\"]==\"Amazon\")][\"title\"].count()\n",
    "                series=df[(df[\"type\"]==\"TV Show\")&(df[\"plataforma\"]==\"Amazon\")][\"title\"].count()\n",
    "                dict={\"Numeros de serie\":series,\"Numero de peliculas\":movies}\n",
    "            if plataforma==\"Hulu\":\n",
    "                movies=df[(df[\"type\"]==\"Movie\")&(df[\"plataforma\"]==\"Hulu\")][\"title\"].count()\n",
    "                series=df[(df[\"type\"]==\"TV Show\")&(df[\"plataforma\"]==\"Hulu\")][\"title\"].count()\n",
    "                dict={\"Numeros de serie\":series,\"Numero de peliculas\":movies}\n",
    "            if plataforma==\"Netflix\":\n",
    "                movies=df[(df[\"type\"]==\"Movie\")&(df[\"plataforma\"]==\"Netflix\")][\"title\"].count()\n",
    "                series=df[(df[\"type\"]==\"TV Show\")&(df[\"plataforma\"]==\"Netflix\")][\"title\"].count()\n",
    "                dict={\"Numeros de serie\":series,\"Numero de peliculas\":movies}\n",
    "            if plataforma==\"Disney\":\n",
    "                movies=df[(df[\"type\"]==\"Movie\")&(df[\"plataforma\"]==\"Disney\")][\"title\"].count()\n",
    "                series=df[(df[\"type\"]==\"TV Show\")&(df[\"plataforma\"]==\"Disney\")][\"title\"].count()\n",
    "                dict={\"Numeros de serie\":series,\"Numero de peliculas\":movies}\n",
    "            return dict\n",
    "\n"
   ]
  },
  {
   "cell_type": "code",
   "execution_count": 28,
   "metadata": {},
   "outputs": [
    {
     "name": "stdout",
     "output_type": "stream",
     "text": [
      "{'Numeros de serie': 2676, 'Numero de peliculas': 6131}\n"
     ]
    }
   ],
   "source": [
    "print(get_count_plataform(\"Netflix\"))"
   ]
  },
  {
   "cell_type": "code",
   "execution_count": 25,
   "metadata": {},
   "outputs": [],
   "source": [
    "# creo una funcion que me determina que actor trabajo mas en una plataforma y un año determinado\n",
    "    \n",
    "def get_actor(plataforma,año):\n",
    "\n",
    "    df_plataforma=(df[(df.plataforma==plataforma)&(df.release_year==año)&(df.cast!='Desconocido')])\n",
    "    df_plataforma['cast']=df_plataforma['cast'].replace(' ,',',') \n",
    "    df_plataforma['cast']=df_plataforma['cast'].replace(', ',',') \n",
    "\n",
    "    lista_actores_unicos=[]\n",
    "\n",
    "    for lista in df_plataforma['cast']:\n",
    "        lista=str(lista).split(',')\n",
    "    for actor in lista:\n",
    "            actor=actor.strip()\n",
    "            lista_actores_unicos.append(actor)\n",
    "    lista_actores_unicos=list(set(lista_actores_unicos))\n",
    "\n",
    "    lista_actores=[]\n",
    "    lista_repetidos=[]\n",
    "    dicc=dict()\n",
    "\n",
    "    for lista in df_plataforma['cast']:\n",
    "            lista=str(lista).split(',')\n",
    "            for actor in lista:\n",
    "                actor=actor.strip()\n",
    "                lista_actores.append(actor)\n",
    "    lista_actores_unicos=list(set(lista_actores))\n",
    "\n",
    "    for i,e in enumerate(lista_actores):\n",
    "            contador=lista_actores.count(e)\n",
    "            dicc[e]=contador\n",
    "        \n",
    "    a=max(dicc, key=dicc.get)\n",
    "\n",
    "    m=dicc.get(a)\n",
    "    rta= str(a) + ' ' +str(m)\n",
    "    return  rta"
   ]
  },
  {
   "cell_type": "code",
   "execution_count": 26,
   "metadata": {},
   "outputs": [
    {
     "name": "stderr",
     "output_type": "stream",
     "text": [
      "C:\\Users\\Beto\\AppData\\Local\\Temp\\ipykernel_2396\\2804249583.py:4: SettingWithCopyWarning: \n",
      "A value is trying to be set on a copy of a slice from a DataFrame.\n",
      "Try using .loc[row_indexer,col_indexer] = value instead\n",
      "\n",
      "See the caveats in the documentation: https://pandas.pydata.org/pandas-docs/stable/user_guide/indexing.html#returning-a-view-versus-a-copy\n",
      "  df_plataforma['cast']=df_plataforma['cast'].replace(' ,',',')\n",
      "C:\\Users\\Beto\\AppData\\Local\\Temp\\ipykernel_2396\\2804249583.py:5: SettingWithCopyWarning: \n",
      "A value is trying to be set on a copy of a slice from a DataFrame.\n",
      "Try using .loc[row_indexer,col_indexer] = value instead\n",
      "\n",
      "See the caveats in the documentation: https://pandas.pydata.org/pandas-docs/stable/user_guide/indexing.html#returning-a-view-versus-a-copy\n",
      "  df_plataforma['cast']=df_plataforma['cast'].replace(', ',',')\n"
     ]
    },
    {
     "name": "stdout",
     "output_type": "stream",
     "text": [
      "AndreaLibman 8\n"
     ]
    }
   ],
   "source": [
    "print(get_actor(\"Netflix\",2018))"
   ]
  },
  {
   "cell_type": "code",
   "execution_count": 31,
   "metadata": {},
   "outputs": [],
   "source": [
    "# creo una funcion para obtener la plataforma en la que mas se repite el genero especificado\n",
    "def get_listedin(genero:str):\n",
    "    amazon_count=0\n",
    "    hulu_count=0\n",
    "    disney_count=0\n",
    "    netflix_count=0\n",
    "    for i in df[(df[\"plataforma\"]==\"Amazon\")][\"listed_in\"]:\n",
    "        if genero in i.split(\",\"):\n",
    "            amazon_count+=1\n",
    "    for i in df[(df[\"plataforma\"]==\"Netflix\")][\"listed_in\"]:\n",
    "        if genero in i.split(\",\"):\n",
    "            netflix_count+=1\n",
    "    for i in df[(df[\"plataforma\"]==\"Hulu\")][\"listed_in\"]:\n",
    "        if genero in i.split(\",\"):\n",
    "            hulu_count+=1\n",
    "    for i in df[(df[\"plataforma\"]==\"Disney\")][\"listed_in\"]:\n",
    "        if genero in i.split(\",\"):\n",
    "            disney_count+=1\n",
    "    dict_count={\"Amazon\":amazon_count,\"Netflix\":netflix_count,\"Hulu\":hulu_count,\"Disney\":disney_count}\n",
    "    max_value=max(dict_count.values())\n",
    "    max_platform=key = [key for key, val in dict_count.items() if val == max_value][0]\n",
    "    return max_platform , max_value\n",
    "\n"
   ]
  },
  {
   "cell_type": "code",
   "execution_count": 32,
   "metadata": {},
   "outputs": [
    {
     "name": "stdout",
     "output_type": "stream",
     "text": [
      "('Amazon', 2099)\n"
     ]
    }
   ],
   "source": [
    "print(get_listedin(\"Comedy\"))"
   ]
  },
  {
   "attachments": {},
   "cell_type": "markdown",
   "metadata": {},
   "source": [
    "FINALIZACION DEL ARCHIVO"
   ]
  },
  {
   "cell_type": "code",
   "execution_count": 33,
   "metadata": {},
   "outputs": [],
   "source": [
    "# convierto mi archivo a CSV para poder subir y trabajarlo en distintas plataformas\n",
    "\n",
    "df.to_csv(\"Proyecto.csv\",index=False)"
   ]
  },
  {
   "cell_type": "code",
   "execution_count": 34,
   "metadata": {},
   "outputs": [
    {
     "data": {
      "text/html": [
       "<div>\n",
       "<style scoped>\n",
       "    .dataframe tbody tr th:only-of-type {\n",
       "        vertical-align: middle;\n",
       "    }\n",
       "\n",
       "    .dataframe tbody tr th {\n",
       "        vertical-align: top;\n",
       "    }\n",
       "\n",
       "    .dataframe thead th {\n",
       "        text-align: right;\n",
       "    }\n",
       "</style>\n",
       "<table border=\"1\" class=\"dataframe\">\n",
       "  <thead>\n",
       "    <tr style=\"text-align: right;\">\n",
       "      <th></th>\n",
       "      <th>show_id</th>\n",
       "      <th>type</th>\n",
       "      <th>title</th>\n",
       "      <th>director</th>\n",
       "      <th>cast</th>\n",
       "      <th>country</th>\n",
       "      <th>date_added</th>\n",
       "      <th>release_year</th>\n",
       "      <th>rating</th>\n",
       "      <th>duration</th>\n",
       "      <th>listed_in</th>\n",
       "      <th>description</th>\n",
       "      <th>plataforma</th>\n",
       "    </tr>\n",
       "  </thead>\n",
       "  <tbody>\n",
       "    <tr>\n",
       "      <th>0</th>\n",
       "      <td>s1</td>\n",
       "      <td>Movie</td>\n",
       "      <td>The Grand Seduction</td>\n",
       "      <td>Don McKellar</td>\n",
       "      <td>BrendanGleeson,TaylorKitsch,GordonPinsent</td>\n",
       "      <td>Canada</td>\n",
       "      <td>March 30, 2021</td>\n",
       "      <td>2014</td>\n",
       "      <td>0</td>\n",
       "      <td>113</td>\n",
       "      <td>Comedy,Drama</td>\n",
       "      <td>A small fishing village must procure a local d...</td>\n",
       "      <td>Amazon</td>\n",
       "    </tr>\n",
       "    <tr>\n",
       "      <th>1</th>\n",
       "      <td>s2</td>\n",
       "      <td>Movie</td>\n",
       "      <td>Take Care Good Night</td>\n",
       "      <td>Girish Joshi</td>\n",
       "      <td>MaheshManjrekar,AbhayMahajan,SachinKhedekar</td>\n",
       "      <td>India</td>\n",
       "      <td>March 30, 2021</td>\n",
       "      <td>2018</td>\n",
       "      <td>13+</td>\n",
       "      <td>110</td>\n",
       "      <td>Drama,International</td>\n",
       "      <td>A Metro Family decides to fight a Cyber Crimin...</td>\n",
       "      <td>Amazon</td>\n",
       "    </tr>\n",
       "    <tr>\n",
       "      <th>2</th>\n",
       "      <td>s3</td>\n",
       "      <td>Movie</td>\n",
       "      <td>Secrets of Deception</td>\n",
       "      <td>Josh Webber</td>\n",
       "      <td>TomSizemore,LorenzoLamas,RobertLaSardo,Richard...</td>\n",
       "      <td>United States</td>\n",
       "      <td>March 30, 2021</td>\n",
       "      <td>2017</td>\n",
       "      <td>0</td>\n",
       "      <td>74</td>\n",
       "      <td>Action,Drama,Suspense</td>\n",
       "      <td>After a man discovers his wife is cheating on ...</td>\n",
       "      <td>Amazon</td>\n",
       "    </tr>\n",
       "    <tr>\n",
       "      <th>3</th>\n",
       "      <td>s4</td>\n",
       "      <td>Movie</td>\n",
       "      <td>Pink: Staying True</td>\n",
       "      <td>Sonia Anderson</td>\n",
       "      <td>Interviewswith:Pink,Adele,Beyoncé,BritneySpear...</td>\n",
       "      <td>United States</td>\n",
       "      <td>March 30, 2021</td>\n",
       "      <td>2014</td>\n",
       "      <td>0</td>\n",
       "      <td>69</td>\n",
       "      <td>Documentary</td>\n",
       "      <td>Pink breaks the mold once again, bringing her ...</td>\n",
       "      <td>Amazon</td>\n",
       "    </tr>\n",
       "    <tr>\n",
       "      <th>4</th>\n",
       "      <td>s5</td>\n",
       "      <td>Movie</td>\n",
       "      <td>Monster Maker</td>\n",
       "      <td>Giles Foster</td>\n",
       "      <td>HarryDeanStanton,KieranO'Brien,GeorgeCostigan,...</td>\n",
       "      <td>United Kingdom</td>\n",
       "      <td>March 30, 2021</td>\n",
       "      <td>1989</td>\n",
       "      <td>0</td>\n",
       "      <td>45</td>\n",
       "      <td>Drama,Fantasy</td>\n",
       "      <td>Teenage Matt Banting wants to work with a famo...</td>\n",
       "      <td>Amazon</td>\n",
       "    </tr>\n",
       "    <tr>\n",
       "      <th>...</th>\n",
       "      <td>...</td>\n",
       "      <td>...</td>\n",
       "      <td>...</td>\n",
       "      <td>...</td>\n",
       "      <td>...</td>\n",
       "      <td>...</td>\n",
       "      <td>...</td>\n",
       "      <td>...</td>\n",
       "      <td>...</td>\n",
       "      <td>...</td>\n",
       "      <td>...</td>\n",
       "      <td>...</td>\n",
       "      <td>...</td>\n",
       "    </tr>\n",
       "    <tr>\n",
       "      <th>1445</th>\n",
       "      <td>s1446</td>\n",
       "      <td>Movie</td>\n",
       "      <td>X-Men Origins: Wolverine</td>\n",
       "      <td>Gavin Hood</td>\n",
       "      <td>HughJackman,LievSchreiber,DannyHuston,will.i.a...</td>\n",
       "      <td>United States, United Kingdom</td>\n",
       "      <td>June 4, 2021</td>\n",
       "      <td>2009</td>\n",
       "      <td>PG-13</td>\n",
       "      <td>108</td>\n",
       "      <td>Action-Adventure,Family,ScienceFiction</td>\n",
       "      <td>Wolverine unites with legendary X-Men to fight...</td>\n",
       "      <td>Disney</td>\n",
       "    </tr>\n",
       "    <tr>\n",
       "      <th>1446</th>\n",
       "      <td>s1447</td>\n",
       "      <td>Movie</td>\n",
       "      <td>Night at the Museum: Battle of the Smithsonian</td>\n",
       "      <td>Shawn Levy</td>\n",
       "      <td>BenStiller,AmyAdams,OwenWilson,HankAzaria,Chri...</td>\n",
       "      <td>United States, Canada</td>\n",
       "      <td>April 2, 2021</td>\n",
       "      <td>2009</td>\n",
       "      <td>PG</td>\n",
       "      <td>106</td>\n",
       "      <td>Action-Adventure,Comedy,Family</td>\n",
       "      <td>Larry Daley returns to rescue some old friends...</td>\n",
       "      <td>Disney</td>\n",
       "    </tr>\n",
       "    <tr>\n",
       "      <th>1447</th>\n",
       "      <td>s1448</td>\n",
       "      <td>Movie</td>\n",
       "      <td>Eddie the Eagle</td>\n",
       "      <td>Dexter Fletcher</td>\n",
       "      <td>TomCostello,JoHartley,KeithAllen,DickonTolson,...</td>\n",
       "      <td>United Kingdom, Germany, United States</td>\n",
       "      <td>December 18, 2020</td>\n",
       "      <td>2016</td>\n",
       "      <td>PG-13</td>\n",
       "      <td>107</td>\n",
       "      <td>Biographical,Comedy,Drama</td>\n",
       "      <td>True story of Eddie Edwards, a British ski-jum...</td>\n",
       "      <td>Disney</td>\n",
       "    </tr>\n",
       "    <tr>\n",
       "      <th>1448</th>\n",
       "      <td>s1449</td>\n",
       "      <td>Movie</td>\n",
       "      <td>Bend It Like Beckham</td>\n",
       "      <td>Gurinder Chadha</td>\n",
       "      <td>ParminderNagra,KeiraKnightley,JonathanRhys-Mey...</td>\n",
       "      <td>United Kingdom, Germany, United States</td>\n",
       "      <td>September 18, 2020</td>\n",
       "      <td>2003</td>\n",
       "      <td>PG-13</td>\n",
       "      <td>112</td>\n",
       "      <td>Buddy,Comedy,ComingofAge</td>\n",
       "      <td>Despite the wishes of their traditional famili...</td>\n",
       "      <td>Disney</td>\n",
       "    </tr>\n",
       "    <tr>\n",
       "      <th>1449</th>\n",
       "      <td>s1450</td>\n",
       "      <td>Movie</td>\n",
       "      <td>Captain Sparky vs. The Flying Saucers</td>\n",
       "      <td>Mark Waring</td>\n",
       "      <td>CharlieTahan</td>\n",
       "      <td>United States</td>\n",
       "      <td>April 1, 2020</td>\n",
       "      <td>2012</td>\n",
       "      <td>TV-G</td>\n",
       "      <td>2</td>\n",
       "      <td>Action-Adventure,Animals&amp;Nature,Animation</td>\n",
       "      <td>View one of Sparky's favorite home movies.</td>\n",
       "      <td>Disney</td>\n",
       "    </tr>\n",
       "  </tbody>\n",
       "</table>\n",
       "<p>22998 rows × 13 columns</p>\n",
       "</div>"
      ],
      "text/plain": [
       "     show_id   type                                           title  \\\n",
       "0         s1  Movie                             The Grand Seduction   \n",
       "1         s2  Movie                            Take Care Good Night   \n",
       "2         s3  Movie                            Secrets of Deception   \n",
       "3         s4  Movie                              Pink: Staying True   \n",
       "4         s5  Movie                                   Monster Maker   \n",
       "...      ...    ...                                             ...   \n",
       "1445   s1446  Movie                        X-Men Origins: Wolverine   \n",
       "1446   s1447  Movie  Night at the Museum: Battle of the Smithsonian   \n",
       "1447   s1448  Movie                                 Eddie the Eagle   \n",
       "1448   s1449  Movie                            Bend It Like Beckham   \n",
       "1449   s1450  Movie           Captain Sparky vs. The Flying Saucers   \n",
       "\n",
       "             director                                               cast  \\\n",
       "0        Don McKellar          BrendanGleeson,TaylorKitsch,GordonPinsent   \n",
       "1        Girish Joshi        MaheshManjrekar,AbhayMahajan,SachinKhedekar   \n",
       "2         Josh Webber  TomSizemore,LorenzoLamas,RobertLaSardo,Richard...   \n",
       "3      Sonia Anderson  Interviewswith:Pink,Adele,Beyoncé,BritneySpear...   \n",
       "4        Giles Foster  HarryDeanStanton,KieranO'Brien,GeorgeCostigan,...   \n",
       "...               ...                                                ...   \n",
       "1445       Gavin Hood  HughJackman,LievSchreiber,DannyHuston,will.i.a...   \n",
       "1446       Shawn Levy  BenStiller,AmyAdams,OwenWilson,HankAzaria,Chri...   \n",
       "1447  Dexter Fletcher  TomCostello,JoHartley,KeithAllen,DickonTolson,...   \n",
       "1448  Gurinder Chadha  ParminderNagra,KeiraKnightley,JonathanRhys-Mey...   \n",
       "1449      Mark Waring                                       CharlieTahan   \n",
       "\n",
       "                                     country          date_added  \\\n",
       "0                                     Canada      March 30, 2021   \n",
       "1                                      India      March 30, 2021   \n",
       "2                              United States      March 30, 2021   \n",
       "3                              United States      March 30, 2021   \n",
       "4                             United Kingdom      March 30, 2021   \n",
       "...                                      ...                 ...   \n",
       "1445           United States, United Kingdom        June 4, 2021   \n",
       "1446                   United States, Canada       April 2, 2021   \n",
       "1447  United Kingdom, Germany, United States   December 18, 2020   \n",
       "1448  United Kingdom, Germany, United States  September 18, 2020   \n",
       "1449                           United States       April 1, 2020   \n",
       "\n",
       "      release_year rating  duration  \\\n",
       "0             2014      0       113   \n",
       "1             2018    13+       110   \n",
       "2             2017      0        74   \n",
       "3             2014      0        69   \n",
       "4             1989      0        45   \n",
       "...            ...    ...       ...   \n",
       "1445          2009  PG-13       108   \n",
       "1446          2009     PG       106   \n",
       "1447          2016  PG-13       107   \n",
       "1448          2003  PG-13       112   \n",
       "1449          2012   TV-G         2   \n",
       "\n",
       "                                      listed_in  \\\n",
       "0                                  Comedy,Drama   \n",
       "1                           Drama,International   \n",
       "2                         Action,Drama,Suspense   \n",
       "3                                   Documentary   \n",
       "4                                 Drama,Fantasy   \n",
       "...                                         ...   \n",
       "1445     Action-Adventure,Family,ScienceFiction   \n",
       "1446             Action-Adventure,Comedy,Family   \n",
       "1447                  Biographical,Comedy,Drama   \n",
       "1448                   Buddy,Comedy,ComingofAge   \n",
       "1449  Action-Adventure,Animals&Nature,Animation   \n",
       "\n",
       "                                            description plataforma  \n",
       "0     A small fishing village must procure a local d...     Amazon  \n",
       "1     A Metro Family decides to fight a Cyber Crimin...     Amazon  \n",
       "2     After a man discovers his wife is cheating on ...     Amazon  \n",
       "3     Pink breaks the mold once again, bringing her ...     Amazon  \n",
       "4     Teenage Matt Banting wants to work with a famo...     Amazon  \n",
       "...                                                 ...        ...  \n",
       "1445  Wolverine unites with legendary X-Men to fight...     Disney  \n",
       "1446  Larry Daley returns to rescue some old friends...     Disney  \n",
       "1447  True story of Eddie Edwards, a British ski-jum...     Disney  \n",
       "1448  Despite the wishes of their traditional famili...     Disney  \n",
       "1449         View one of Sparky's favorite home movies.     Disney  \n",
       "\n",
       "[22998 rows x 13 columns]"
      ]
     },
     "execution_count": 34,
     "metadata": {},
     "output_type": "execute_result"
    }
   ],
   "source": [
    "# observo como queda conformado mi df final\n",
    "df"
   ]
  }
 ],
 "metadata": {
  "kernelspec": {
   "display_name": "Python 3.10.8 64-bit (microsoft store)",
   "language": "python",
   "name": "python3"
  },
  "language_info": {
   "codemirror_mode": {
    "name": "ipython",
    "version": 3
   },
   "file_extension": ".py",
   "mimetype": "text/x-python",
   "name": "python",
   "nbconvert_exporter": "python",
   "pygments_lexer": "ipython3",
   "version": "3.10.8"
  },
  "orig_nbformat": 4,
  "vscode": {
   "interpreter": {
    "hash": "9bf73a9eba4a93e049f809b9ec9c90dc9538e85050adbffc71006feb7c88c884"
   }
  }
 },
 "nbformat": 4,
 "nbformat_minor": 2
}
